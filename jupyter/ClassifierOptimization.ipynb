{
 "cells": [
  {
   "cell_type": "markdown",
   "metadata": {},
   "source": [
    "# Classifier Optimization\n",
    "## Prepare the environment"
   ]
  },
  {
   "cell_type": "code",
   "execution_count": null,
   "metadata": {
    "scrolled": true
   },
   "outputs": [],
   "source": [
    "%matplotlib inline\n",
    "%run settings\n",
    "%config InlineBackend.figure_format = 'retina'\n",
    "\n",
    "%reload_ext autoreload\n",
    "%autoreload 2\n",
    "\n",
    "import logging\n",
    "logging.basicConfig(format='%(asctime)s: %(levelname)s: %(message)s', level=logging.INFO)\n",
    "\n",
    "logging.getLogger().setLevel(logging.WARNING)\n",
    "logging.getLogger().info(\"Logging INFOS.\")\n",
    "logging.getLogger().warning(\"Logging WARNINGS.\")\n",
    "logging.getLogger().error(\"Logging ERRORS.\")\n",
    "\n",
    "%precision 3\n",
    "np.set_printoptions(suppress=True)\n",
    "\n",
    "import pickle\n",
    "import xgboost as xgb\n",
    "from sklearn.svm import SVC\n",
    "from sklearn.svm import LinearSVC\n",
    "from sklearn.metrics import accuracy_score\n",
    "from sklearn.metrics import classification_report\n",
    "from sklearn.feature_extraction.text import TfidfVectorizer\n",
    "from sklearn.model_selection import train_test_split\n",
    "from sklearn.linear_model import LogisticRegression\n",
    "from sklearn.naive_bayes import MultinomialNB\n",
    "from sklearn.metrics import confusion_matrix\n",
    "from sklearn.metrics import f1_score\n",
    "from sklearn.model_selection import GridSearchCV\n",
    "from sklearn.metrics import make_scorer"
   ]
  },
  {
   "cell_type": "markdown",
   "metadata": {},
   "source": [
    "## Prepare the data\n",
    "To create these files follow the README and the notebook __DataSet__"
   ]
  },
  {
   "cell_type": "code",
   "execution_count": null,
   "metadata": {},
   "outputs": [],
   "source": [
    "training_df = pd.read_csv(\"../resources/training_data.csv\")\n",
    "evaluation_df = pd.read_csv(\"../resources/evaluation_data.csv\")\n",
    "\n",
    "tfidf_vect = TfidfVectorizer(ngram_range=(1, 2), \n",
    "                             min_df=10, \n",
    "                             max_df=0.3, \n",
    "                             lowercase=True,\n",
    "                             stop_words=None)\n",
    "\n",
    "text_col = 'tweet'\n",
    "label = 'class'\n",
    "\n",
    "X_tfidf = tfidf_vect.fit_transform(training_df[text_col])\n",
    "X_tfidf.shape"
   ]
  },
  {
   "cell_type": "markdown",
   "metadata": {},
   "source": [
    "Train Test Split"
   ]
  },
  {
   "cell_type": "code",
   "execution_count": null,
   "metadata": {},
   "outputs": [],
   "source": [
    "X = X_tfidf\n",
    "y = training_df[label]\n",
    "# define holdout\n",
    "test_size = 0.2\n",
    "\n",
    "if test_size > 0.0:\n",
    "    X_train, X_test, y_train, y_test = train_test_split(X, y, \n",
    "                                                        test_size=test_size,\n",
    "                                                        stratify = y,\n",
    "                                                        random_state=43\n",
    "                                                       )\n",
    "else:\n",
    "    X_train, X_test, y_train, y_test = X, None, y, None\n",
    "    \n",
    "    \n",
    "training_df['train_test'] = pd.Series(\n",
    "    training_df.index.isin(y_test.index)).map(\n",
    "    lambda x: 'Test' if x else 'Train')\n",
    "print(\"Trainigsmatrix:\", X_train.shape)\n",
    "print(\"Testmatrix:    \", X_test.shape)"
   ]
  },
  {
   "cell_type": "markdown",
   "metadata": {},
   "source": [
    "## Train classifiers"
   ]
  },
  {
   "cell_type": "code",
   "execution_count": null,
   "metadata": {},
   "outputs": [],
   "source": [
    "print(f'Training on column {label}')\n",
    "\n",
    "\n",
    "clfSVC = SVC(random_state = 912, kernel='rbf')\n",
    "clfSVC.fit(X_train, y_train)\n",
    "\n",
    "clfSVCLin = LinearSVC(C=1.0, max_iter=10000)\n",
    "clfSVCLin.fit(X_train, y_train)\n",
    "\n",
    "clfLogRegr = LogisticRegression(random_state = 42)\n",
    "clfLogRegr.fit(X_train, y_train)\n",
    "\n",
    "clfXGB = xgb.XGBClassifier(seed = 82)\n",
    "clfXGB.fit(X_train, y_train)\n",
    "\n",
    "clfMulNB = MultinomialNB()\n",
    "clfMulNB.fit(X_train, y_train)\n",
    "\n",
    "print(\"Done.\")"
   ]
  },
  {
   "cell_type": "markdown",
   "metadata": {},
   "source": [
    "## Evaluation"
   ]
  },
  {
   "cell_type": "code",
   "execution_count": null,
   "metadata": {},
   "outputs": [],
   "source": [
    "def evaluate(clf, X_train, y_train, X_test, y_test):\n",
    "    y_test_pred = clf.predict(X_test)\n",
    "    y_train_pred = clf.predict(X_train)\n",
    "    y_pred = clf.predict(X)\n",
    "\n",
    "    print(f\"Classifier: {clf.__class__}\\n\")\n",
    "\n",
    "    print('Accuracy Summary')\n",
    "    print('================')\n",
    "\n",
    "    print(f'Test:    {accuracy_score(y_test, y_test_pred)*100:6.2f}%')\n",
    "    print(f'Train:   {accuracy_score(y_train, y_train_pred)*100:6.2f}%')\n",
    "    print(f'Overall: {accuracy_score(y, y_pred)*100:6.2f}%')\n",
    "    \n",
    "    print(\"Classification Report\")\n",
    "    print(\"=====================\")\n",
    "    print(classification_report(y_true=y_test, y_pred=y_test_pred))\n",
    "    \n",
    "    ###plot confusion matrix###\n",
    "    \n",
    "    # label names - specifies order in confusion matrix\n",
    "    label_names = sorted(y_test.unique())\n",
    "\n",
    "    # scale figure size depending on number of categories\n",
    "    fsize = len(label_names)\n",
    "\n",
    "    conf_mat = confusion_matrix(y_test, y_test_pred, labels=label_names)\n",
    "\n",
    "    _ = fig, ax = plt.subplots(figsize=(fsize, fsize))\n",
    "    _ = sns.heatmap(conf_mat, annot=True, fmt=\"d\", cmap=\"Blues\", cbar=False, \n",
    "                    xticklabels=label_names, yticklabels=label_names)\n",
    "    _ = plt.ylabel(\"Actual\")\n",
    "    _ = plt.xlabel(\"Predicted\")\n",
    "    _ = ax.set_title(f\"Confusion Matrix for {label}\", fontsize=14)"
   ]
  },
  {
   "cell_type": "code",
   "execution_count": null,
   "metadata": {},
   "outputs": [],
   "source": [
    "print('clfSVC:')\n",
    "evaluate(clfSVC, X_train, y_train, X_test, y_test)"
   ]
  },
  {
   "cell_type": "code",
   "execution_count": null,
   "metadata": {},
   "outputs": [],
   "source": [
    "print('clfSVCLin:')\n",
    "evaluate(clfSVCLin, X_train, y_train, X_test, y_test)"
   ]
  },
  {
   "cell_type": "code",
   "execution_count": null,
   "metadata": {},
   "outputs": [],
   "source": [
    "print('clfLogRegr:')\n",
    "evaluate(clfLogRegr, X_train, y_train, X_test, y_test)"
   ]
  },
  {
   "cell_type": "code",
   "execution_count": null,
   "metadata": {},
   "outputs": [],
   "source": [
    "print('clfXGB:')\n",
    "evaluate(clfXGB, X_train, y_train, X_test, y_test)"
   ]
  },
  {
   "cell_type": "code",
   "execution_count": null,
   "metadata": {},
   "outputs": [],
   "source": [
    "print('clfMulNB:')\n",
    "evaluate(clfMulNB, X_train, y_train, X_test, y_test)"
   ]
  },
  {
   "cell_type": "markdown",
   "metadata": {},
   "source": [
    "## Hyperparameter Tuning"
   ]
  },
  {
   "cell_type": "code",
   "execution_count": null,
   "metadata": {},
   "outputs": [],
   "source": [
    "parameters = {'C':[0.1,1]#,10,100,1000]#,\n",
    "              #'kernel': ['linear', 'poly', 'rbf', 'sigmoid', 'precomputed'],\n",
    "              #'gamma': ['scale', 'auto']\n",
    "}\n",
    "\n",
    "clf = SVC()\n",
    "f1_scorer = make_scorer(f1_score,pos_label='H', average='weighted')\n",
    "\n",
    "grid_obj = GridSearchCV(clf,\n",
    "                        scoring=f1_scorer,\n",
    "                        param_grid=parameters,\n",
    "                        cv=5)\n",
    "\n",
    "grid_obj = grid_obj.fit(X_train,y_train)\n",
    "\n",
    "# Get the estimator\n",
    "clf = grid_obj.best_estimator_\n",
    "print (clf)"
   ]
  },
  {
   "cell_type": "markdown",
   "metadata": {},
   "source": [
    "Save the best classifier"
   ]
  },
  {
   "cell_type": "code",
   "execution_count": null,
   "metadata": {},
   "outputs": [],
   "source": [
    "pickle.dump(clf, open('../resources/tuned_senti_model.pkl', 'wb'))\n",
    "pickle.dump(tfidf_vect, open('../resources/tuned_tfidf_vect.pkl', 'wb'))"
   ]
  },
  {
   "cell_type": "code",
   "execution_count": null,
   "metadata": {},
   "outputs": [],
   "source": []
  }
 ],
 "metadata": {
  "kernelspec": {
   "display_name": "Python 3 (ipykernel)",
   "language": "python",
   "name": "python3"
  },
  "language_info": {
   "codemirror_mode": {
    "name": "ipython",
    "version": 3
   },
   "file_extension": ".py",
   "mimetype": "text/x-python",
   "name": "python",
   "nbconvert_exporter": "python",
   "pygments_lexer": "ipython3",
   "version": "3.9.7"
  }
 },
 "nbformat": 4,
 "nbformat_minor": 2
}
