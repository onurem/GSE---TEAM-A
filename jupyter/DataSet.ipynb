{
 "cells": [
  {
   "cell_type": "markdown",
   "metadata": {},
   "source": [
    "# DataSets\n",
    "## Preparation\n",
    "First, import libraries and load all the datasets we currently have"
   ]
  },
  {
   "cell_type": "code",
   "execution_count": null,
   "metadata": {},
   "outputs": [],
   "source": [
    "import pandas as pd"
   ]
  },
  {
   "cell_type": "code",
   "execution_count": null,
   "metadata": {},
   "outputs": [],
   "source": [
    "auto_labeled_df = pd.read_csv(\"../resources/auto_labled_data.csv\")\n",
    "fox_df = pd.read_csv(\"../resources/fox_news.csv\", sep=';')\n",
    "ethos_df = pd.read_csv(\"../resources/Ethos_Dataset_Binary.csv\", sep=';')\n",
    "\n",
    "olid_labels = pd.read_csv(\"../resources/OLIDv1.0/labels-levela.csv\")\n",
    "olid_texts = pd.read_csv(\"../resources/OLIDv1.0/testset-levela.tsv\", sep='\\t')"
   ]
  },
  {
   "cell_type": "markdown",
   "metadata": {},
   "source": [
    "### Prepare auto_labeled_data"
   ]
  },
  {
   "cell_type": "code",
   "execution_count": null,
   "metadata": {},
   "outputs": [],
   "source": [
    "def classification_auto_labeled(x):\n",
    "    if x == 0:\n",
    "        return \"hate_speech\"\n",
    "    if x == 1:\n",
    "        return \"offensive_language\"\n",
    "    if x == 2:\n",
    "        return \"neither\"\n",
    "    \n",
    "auto_labeled_df = auto_labeled_df.drop(columns=['Unnamed: 0', 'count', 'hate_speech', 'offensive_language', 'neither'])\n",
    "auto_labeled_df['class'] = auto_labeled_df['class'].apply(classification_auto_labeled)"
   ]
  },
  {
   "cell_type": "markdown",
   "metadata": {},
   "source": [
    "### Prepare Ethos"
   ]
  },
  {
   "cell_type": "code",
   "execution_count": null,
   "metadata": {},
   "outputs": [],
   "source": [
    "def classification_ethos(x):\n",
    "    if x == 0:\n",
    "        return 'hate_speech'\n",
    "    else:\n",
    "        return 'neither'\n",
    "\n",
    "ethos_df = ethos_df.rename(columns={'isHate': 'class', 'comment': 'tweet'})\n",
    "ethos_df['class'] = ethos_df['class'].apply(classification_ethos)"
   ]
  },
  {
   "cell_type": "markdown",
   "metadata": {},
   "source": [
    "### Prepare fox_news"
   ]
  },
  {
   "cell_type": "code",
   "execution_count": null,
   "metadata": {},
   "outputs": [],
   "source": [
    "def classification_foxnews(x):\n",
    "    if x == 0:\n",
    "        return \"neither\"\n",
    "    if x == 1:\n",
    "        return \"hate_speech\"\n",
    "\n",
    "\n",
    "fox_df['class'] = fox_df['class'].apply(classification_foxnews)"
   ]
  },
  {
   "cell_type": "markdown",
   "metadata": {},
   "source": [
    "### Prepare OLID dataset"
   ]
  },
  {
   "cell_type": "code",
   "execution_count": null,
   "metadata": {
    "scrolled": true
   },
   "outputs": [],
   "source": [
    "olid_df = pd.merge(olid_labels, olid_texts, on=\"id\")\n",
    "olid_df.sample(10)"
   ]
  },
  {
   "cell_type": "code",
   "execution_count": null,
   "metadata": {},
   "outputs": [],
   "source": [
    "olid_df = olid_df.rename(columns={\"tweet_x\": \"class\", \"tweet_y\": \"tweet\"})"
   ]
  },
  {
   "cell_type": "code",
   "execution_count": null,
   "metadata": {},
   "outputs": [],
   "source": [
    "def classification_olid(x):\n",
    "    if x == 'NOT':\n",
    "        return 'neither'\n",
    "    if x == 'OFF':\n",
    "        return 'offensive_language'\n",
    "\n",
    "olid_df['class'] = olid_df['class'].apply(classification_olid)\n",
    "olid_df = olid_df.drop(columns=['id'])"
   ]
  },
  {
   "cell_type": "markdown",
   "metadata": {},
   "source": [
    "## Combine the data\n",
    "\n",
    "### Verify dataframes\n",
    "Now we can combine the datasets. Verify that all dataframes provide us with the columns _class_ and _tweet_"
   ]
  },
  {
   "cell_type": "code",
   "execution_count": null,
   "metadata": {
    "scrolled": true
   },
   "outputs": [],
   "source": [
    "auto_labeled_df.sample(3)"
   ]
  },
  {
   "cell_type": "code",
   "execution_count": null,
   "metadata": {},
   "outputs": [],
   "source": [
    "ethos_df.sample(3)"
   ]
  },
  {
   "cell_type": "code",
   "execution_count": null,
   "metadata": {
    "scrolled": false
   },
   "outputs": [],
   "source": [
    "fox_df.sample(3)"
   ]
  },
  {
   "cell_type": "code",
   "execution_count": null,
   "metadata": {
    "scrolled": false
   },
   "outputs": [],
   "source": [
    "olid_df.sample(3)"
   ]
  },
  {
   "cell_type": "markdown",
   "metadata": {},
   "source": [
    "### Finally combine it"
   ]
  },
  {
   "cell_type": "code",
   "execution_count": null,
   "metadata": {},
   "outputs": [],
   "source": [
    "training_dfs = [auto_labeled_df, ethos_df]\n",
    "evaluation_dfs = [fox_df, olid_df]\n",
    "training_result = pd.concat(training_dfs)\n",
    "evaluation_result = pd.concat(evaluation_dfs)"
   ]
  },
  {
   "cell_type": "markdown",
   "metadata": {},
   "source": [
    "Save the result"
   ]
  },
  {
   "cell_type": "code",
   "execution_count": null,
   "metadata": {},
   "outputs": [],
   "source": [
    "training_result.to_csv('../resources/training_data.csv', index=False, header=True)\n",
    "evaluation_result.to_csv('../resources/evaluation_data.csv', index=False, header=True)"
   ]
  }
 ],
 "metadata": {
  "kernelspec": {
   "display_name": "Python 3 (ipykernel)",
   "language": "python",
   "name": "python3"
  },
  "language_info": {
   "codemirror_mode": {
    "name": "ipython",
    "version": 3
   },
   "file_extension": ".py",
   "mimetype": "text/x-python",
   "name": "python",
   "nbconvert_exporter": "python",
   "pygments_lexer": "ipython3",
   "version": "3.9.7"
  }
 },
 "nbformat": 4,
 "nbformat_minor": 2
}
